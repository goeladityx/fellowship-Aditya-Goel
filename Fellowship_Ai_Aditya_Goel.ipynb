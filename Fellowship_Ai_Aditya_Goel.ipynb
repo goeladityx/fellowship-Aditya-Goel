{
 "cells": [
  {
   "cell_type": "markdown",
   "id": "7a6a25de",
   "metadata": {},
   "source": [
    "# Fellowship.Ai - Aditya Goel"
   ]
  },
  {
   "cell_type": "markdown",
   "id": "a3ad2ac8",
   "metadata": {},
   "source": [
    "#### AG news classification"
   ]
  },
  {
   "cell_type": "code",
   "execution_count": 1,
   "id": "173a4be0",
   "metadata": {},
   "outputs": [
    {
     "name": "stderr",
     "output_type": "stream",
     "text": [
      "[nltk_data] Downloading package stopwords to\n",
      "[nltk_data]     C:\\Users\\adity\\AppData\\Roaming\\nltk_data...\n",
      "[nltk_data]   Package stopwords is already up-to-date!\n"
     ]
    },
    {
     "data": {
      "text/plain": [
       "True"
      ]
     },
     "execution_count": 1,
     "metadata": {},
     "output_type": "execute_result"
    }
   ],
   "source": [
    "import logging\n",
    "import pandas as pd\n",
    "import numpy as np\n",
    "from numpy import random\n",
    "from sklearn.model_selection import train_test_split\n",
    "from sklearn.feature_extraction.text import CountVectorizer, TfidfVectorizer\n",
    "from sklearn.metrics import accuracy_score, confusion_matrix\n",
    "import matplotlib.pyplot as plt\n",
    "from nltk.corpus import stopwords\n",
    "import re\n",
    "from bs4 import BeautifulSoup\n",
    "import nltk\n",
    "nltk.download('stopwords')"
   ]
  },
  {
   "cell_type": "code",
   "execution_count": 7,
   "id": "670c5949",
   "metadata": {},
   "outputs": [
    {
     "data": {
      "text/html": [
       "<div>\n",
       "<style scoped>\n",
       "    .dataframe tbody tr th:only-of-type {\n",
       "        vertical-align: middle;\n",
       "    }\n",
       "\n",
       "    .dataframe tbody tr th {\n",
       "        vertical-align: top;\n",
       "    }\n",
       "\n",
       "    .dataframe thead th {\n",
       "        text-align: right;\n",
       "    }\n",
       "</style>\n",
       "<table border=\"1\" class=\"dataframe\">\n",
       "  <thead>\n",
       "    <tr style=\"text-align: right;\">\n",
       "      <th></th>\n",
       "      <th>tags</th>\n",
       "      <th>post</th>\n",
       "      <th>detail</th>\n",
       "    </tr>\n",
       "  </thead>\n",
       "  <tbody>\n",
       "    <tr>\n",
       "      <th>0</th>\n",
       "      <td>3</td>\n",
       "      <td>Wall St. Bears Claw Back Into the Black (Reuters)</td>\n",
       "      <td>Reuters - Short-sellers, Wall Street's dwindli...</td>\n",
       "    </tr>\n",
       "    <tr>\n",
       "      <th>1</th>\n",
       "      <td>3</td>\n",
       "      <td>Carlyle Looks Toward Commercial Aerospace (Reu...</td>\n",
       "      <td>Reuters - Private investment firm Carlyle Grou...</td>\n",
       "    </tr>\n",
       "    <tr>\n",
       "      <th>2</th>\n",
       "      <td>3</td>\n",
       "      <td>Oil and Economy Cloud Stocks' Outlook (Reuters)</td>\n",
       "      <td>Reuters - Soaring crude prices plus worries\\ab...</td>\n",
       "    </tr>\n",
       "    <tr>\n",
       "      <th>3</th>\n",
       "      <td>3</td>\n",
       "      <td>Iraq Halts Oil Exports from Main Southern Pipe...</td>\n",
       "      <td>Reuters - Authorities have halted oil export\\f...</td>\n",
       "    </tr>\n",
       "    <tr>\n",
       "      <th>4</th>\n",
       "      <td>3</td>\n",
       "      <td>Oil prices soar to all-time record, posing new...</td>\n",
       "      <td>AFP - Tearaway world oil prices, toppling reco...</td>\n",
       "    </tr>\n",
       "  </tbody>\n",
       "</table>\n",
       "</div>"
      ],
      "text/plain": [
       "   tags                                               post  \\\n",
       "0     3  Wall St. Bears Claw Back Into the Black (Reuters)   \n",
       "1     3  Carlyle Looks Toward Commercial Aerospace (Reu...   \n",
       "2     3    Oil and Economy Cloud Stocks' Outlook (Reuters)   \n",
       "3     3  Iraq Halts Oil Exports from Main Southern Pipe...   \n",
       "4     3  Oil prices soar to all-time record, posing new...   \n",
       "\n",
       "                                              detail  \n",
       "0  Reuters - Short-sellers, Wall Street's dwindli...  \n",
       "1  Reuters - Private investment firm Carlyle Grou...  \n",
       "2  Reuters - Soaring crude prices plus worries\\ab...  \n",
       "3  Reuters - Authorities have halted oil export\\f...  \n",
       "4  AFP - Tearaway world oil prices, toppling reco...  "
      ]
     },
     "execution_count": 7,
     "metadata": {},
     "output_type": "execute_result"
    }
   ],
   "source": [
    "df= pd.read_csv(\"ag_news_csv/train.csv\")\n",
    "df = df[pd.notnull(df['tags'])]\n",
    "df.head()"
   ]
  },
  {
   "cell_type": "code",
   "execution_count": 8,
   "id": "5994819c",
   "metadata": {},
   "outputs": [
    {
     "data": {
      "image/png": "[encoded data removed]",
      "text/plain": [
       "<Figure size 720x288 with 1 Axes>"
      ]
     },
     "metadata": {
      "needs_background": "light"
     },
     "output_type": "display_data"
    }
   ],
   "source": [
    "my_tags= [1,2,3,4]\n",
    "plt.figure(figsize=(10,4))\n",
    "df.tags.value_counts().plot(kind='bar');"
   ]
  },
  {
   "cell_type": "code",
   "execution_count": 9,
   "id": "08618aac",
   "metadata": {},
   "outputs": [
    {
     "data": {
      "text/html": [
       "<div>\n",
       "<style scoped>\n",
       "    .dataframe tbody tr th:only-of-type {\n",
       "        vertical-align: middle;\n",
       "    }\n",
       "\n",
       "    .dataframe tbody tr th {\n",
       "        vertical-align: top;\n",
       "    }\n",
       "\n",
       "    .dataframe thead th {\n",
       "        text-align: right;\n",
       "    }\n",
       "</style>\n",
       "<table border=\"1\" class=\"dataframe\">\n",
       "  <thead>\n",
       "    <tr style=\"text-align: right;\">\n",
       "      <th></th>\n",
       "      <th>tags</th>\n",
       "      <th>post</th>\n",
       "    </tr>\n",
       "  </thead>\n",
       "  <tbody>\n",
       "    <tr>\n",
       "      <th>0</th>\n",
       "      <td>3</td>\n",
       "      <td>Wall St. Bears Claw Back Into the Black (Reute...</td>\n",
       "    </tr>\n",
       "    <tr>\n",
       "      <th>1</th>\n",
       "      <td>3</td>\n",
       "      <td>Carlyle Looks Toward Commercial Aerospace (Reu...</td>\n",
       "    </tr>\n",
       "    <tr>\n",
       "      <th>2</th>\n",
       "      <td>3</td>\n",
       "      <td>Oil and Economy Cloud Stocks' Outlook (Reuters...</td>\n",
       "    </tr>\n",
       "    <tr>\n",
       "      <th>3</th>\n",
       "      <td>3</td>\n",
       "      <td>Iraq Halts Oil Exports from Main Southern Pipe...</td>\n",
       "    </tr>\n",
       "    <tr>\n",
       "      <th>4</th>\n",
       "      <td>3</td>\n",
       "      <td>Oil prices soar to all-time record, posing new...</td>\n",
       "    </tr>\n",
       "  </tbody>\n",
       "</table>\n",
       "</div>"
      ],
      "text/plain": [
       "   tags                                               post\n",
       "0     3  Wall St. Bears Claw Back Into the Black (Reute...\n",
       "1     3  Carlyle Looks Toward Commercial Aerospace (Reu...\n",
       "2     3  Oil and Economy Cloud Stocks' Outlook (Reuters...\n",
       "3     3  Iraq Halts Oil Exports from Main Southern Pipe...\n",
       "4     3  Oil prices soar to all-time record, posing new..."
      ]
     },
     "execution_count": 9,
     "metadata": {},
     "output_type": "execute_result"
    }
   ],
   "source": [
    "mylist = df.values.tolist()\n",
    "new_list=[]\n",
    "for i in mylist:\n",
    "    new_list.append([i[0],i[1]+\" \"+ i[2]])\n",
    "\n",
    "df= pd.DataFrame(new_list, columns=[\"tags\",\"post\"])\n",
    "df.head()"
   ]
  },
  {
   "cell_type": "code",
   "execution_count": 11,
   "id": "3af7166a",
   "metadata": {},
   "outputs": [],
   "source": [
    "REPLACE_BY_SPACE_RE = re.compile('[/(){}\\[\\]\\|@,;]')\n",
    "BAD_SYMBOLS_RE = re.compile('[^0-9a-z #+_]')\n",
    "STOPWORDS = set(stopwords.words('english'))\n",
    "\n",
    "def clean_text(text):\n",
    "    text = BeautifulSoup(text, \"lxml\").text\n",
    "    text = text.lower()\n",
    "    text = REPLACE_BY_SPACE_RE.sub(' ', text)\n",
    "    text = BAD_SYMBOLS_RE.sub('', text)\n",
    "    text = ' '.join(word for word in text.split() if word not in STOPWORDS)\n",
    "    return text\n",
    "    \n",
    "df['post'] = df['post'].apply(clean_text)"
   ]
  },
  {
   "cell_type": "code",
   "execution_count": 12,
   "id": "cfea6c0a",
   "metadata": {},
   "outputs": [],
   "source": [
    "X = df.post\n",
    "y = df.tags\n",
    "X_train, X_test, y_train, y_test = train_test_split(X, y, test_size=0.3, random_state = 42)\n"
   ]
  },
  {
   "cell_type": "markdown",
   "id": "5cf8ab3f",
   "metadata": {},
   "source": [
    "### Using Naive Bayes Classifier"
   ]
  },
  {
   "cell_type": "code",
   "execution_count": 13,
   "id": "dc16e4a4",
   "metadata": {},
   "outputs": [
    {
     "name": "stdout",
     "output_type": "stream",
     "text": [
      "accuracy 0.9063611111111111\n",
      "              precision    recall  f1-score   support\n",
      "\n",
      "           1       0.91      0.90      0.90      8932\n",
      "           2       0.95      0.98      0.97      9096\n",
      "           3       0.87      0.88      0.87      8943\n",
      "           4       0.89      0.87      0.88      9029\n",
      "\n",
      "    accuracy                           0.91     36000\n",
      "   macro avg       0.91      0.91      0.91     36000\n",
      "weighted avg       0.91      0.91      0.91     36000\n",
      "\n"
     ]
    }
   ],
   "source": [
    "from sklearn.naive_bayes import MultinomialNB\n",
    "from sklearn.pipeline import Pipeline\n",
    "from sklearn.feature_extraction.text import TfidfTransformer\n",
    "\n",
    "nb = Pipeline([('vect', CountVectorizer()),\n",
    "               ('tfidf', TfidfTransformer()),\n",
    "               ('clf', MultinomialNB()),\n",
    "              ])\n",
    "nb.fit(X_train, y_train)\n",
    "\n",
    "\n",
    "from sklearn.metrics import classification_report\n",
    "y_pred = nb.predict(X_test)\n",
    "\n",
    "print('accuracy %s' % accuracy_score(y_pred, y_test))\n",
    "print(classification_report(y_test, y_pred))"
   ]
  },
  {
   "cell_type": "markdown",
   "id": "2584da1f",
   "metadata": {},
   "source": [
    "### Using Linear SVM"
   ]
  },
  {
   "cell_type": "code",
   "execution_count": 14,
   "id": "b0792491",
   "metadata": {},
   "outputs": [
    {
     "name": "stdout",
     "output_type": "stream",
     "text": [
      "accuracy 0.88625\n",
      "              precision    recall  f1-score   support\n",
      "\n",
      "           1       0.90      0.88      0.89      8932\n",
      "           2       0.89      0.99      0.94      9096\n",
      "           3       0.86      0.84      0.85      8943\n",
      "           4       0.88      0.83      0.86      9029\n",
      "\n",
      "    accuracy                           0.89     36000\n",
      "   macro avg       0.89      0.89      0.89     36000\n",
      "weighted avg       0.89      0.89      0.89     36000\n",
      "\n"
     ]
    }
   ],
   "source": [
    "from sklearn.linear_model import SGDClassifier\n",
    "\n",
    "sgd = Pipeline([('vect', CountVectorizer()),\n",
    "                ('tfidf', TfidfTransformer()),\n",
    "                ('clf', SGDClassifier(loss='hinge', penalty='l2',alpha=1e-3, random_state=42, max_iter=5, tol=None)),\n",
    "               ])\n",
    "sgd.fit(X_train, y_train)\n",
    "\n",
    "y_pred = sgd.predict(X_test)\n",
    "\n",
    "print('accuracy %s' % accuracy_score(y_pred, y_test))\n",
    "print(classification_report(y_test, y_pred))"
   ]
  },
  {
   "cell_type": "markdown",
   "id": "a001f300",
   "metadata": {},
   "source": [
    "##### As we can clearly see here that Naive Bayes outperforms other classifiers, I hahve even tried it with logistic regression and others and the results are inferior to Naive Bayes"
   ]
  },
  {
   "cell_type": "code",
   "execution_count": 16,
   "id": "5566b79c",
   "metadata": {},
   "outputs": [
    {
     "data": {
      "text/plain": [
       "'\\ndf= pd.read_csv(\"test.csv\")\\ndf = df[pd.notnull(df[\\'tags\\'])]\\n\\nmy_tags= [1,2,3,4]\\n#plt.figure(figsize=(10,4))\\n#df.tags.value_counts().plot(kind=\\'bar\\');\\n\\nmylist = df.values.tolist()\\nnew_list=[]\\nfor i in mylist:\\n    new_list.append([i[0],i[1]+\" \"+ i[2]])\\n\\ndf= pd.DataFrame(new_list, columns=[\"tags\",\"post\"])\\n\\nREPLACE_BY_SPACE_RE = re.compile(\\'[/(){}\\\\[\\\\]\\\\|@,;]\\')\\nBAD_SYMBOLS_RE = re.compile(\\'[^0-9a-z #+_]\\')\\nSTOPWORDS = set(stopwords.words(\\'english\\'))\\n\\ndef clean_text(text):\\n    text = BeautifulSoup(text, \"lxml\").text # HTML decoding\\n    text = text.lower() # lowercase text\\n    text = REPLACE_BY_SPACE_RE.sub(\\' \\', text) # replace REPLACE_BY_SPACE_RE symbols by space in text\\n    text = BAD_SYMBOLS_RE.sub(\\'\\', text) # delete symbols which are in BAD_SYMBOLS_RE from text\\n    text = \\' \\'.join(word for word in text.split() if word not in STOPWORDS) # delete stopwors from text\\n    return text\\n    \\ndf[\\'post\\'] = df[\\'post\\'].apply(clean_text)\\n#print_plot(10)\\n\\nX = df.post\\nY = df.tags\\ny_pred = nb.predict(X)\\n\\nprint(\\'accuracy %s\\' % accuracy_score(y_pred, Y))\\nprint(classification_report(Y, y_pred))\\n'"
      ]
     },
     "execution_count": 16,
     "metadata": {},
     "output_type": "execute_result"
    }
   ],
   "source": [
    "#adding test set\n",
    "\"\"\"\n",
    "df= pd.read_csv(\"test.csv\")\n",
    "df = df[pd.notnull(df['tags'])]\n",
    "\n",
    "my_tags= [1,2,3,4]\n",
    "#plt.figure(figsize=(10,4))\n",
    "#df.tags.value_counts().plot(kind='bar');\n",
    "\n",
    "mylist = df.values.tolist()\n",
    "new_list=[]\n",
    "for i in mylist:\n",
    "    new_list.append([i[0],i[1]+\" \"+ i[2]])\n",
    "\n",
    "df= pd.DataFrame(new_list, columns=[\"tags\",\"post\"])\n",
    "\n",
    "REPLACE_BY_SPACE_RE = re.compile('[/(){}\\[\\]\\|@,;]')\n",
    "BAD_SYMBOLS_RE = re.compile('[^0-9a-z #+_]')\n",
    "STOPWORDS = set(stopwords.words('english'))\n",
    "\n",
    "def clean_text(text):\n",
    "    text = BeautifulSoup(text, \"lxml\").text # HTML decoding\n",
    "    text = text.lower() # lowercase text\n",
    "    text = REPLACE_BY_SPACE_RE.sub(' ', text) # replace REPLACE_BY_SPACE_RE symbols by space in text\n",
    "    text = BAD_SYMBOLS_RE.sub('', text) # delete symbols which are in BAD_SYMBOLS_RE from text\n",
    "    text = ' '.join(word for word in text.split() if word not in STOPWORDS) # delete stopwors from text\n",
    "    return text\n",
    "    \n",
    "df['post'] = df['post'].apply(clean_text)\n",
    "#print_plot(10)\n",
    "\n",
    "X = df.post\n",
    "Y = df.tags\n",
    "y_pred = nb.predict(X)\n",
    "\n",
    "print('accuracy %s' % accuracy_score(y_pred, Y))\n",
    "print(classification_report(Y, y_pred))\n",
    "\"\"\""
   ]
  },
  {
   "cell_type": "markdown",
   "id": "f4aa09ea",
   "metadata": {},
   "source": [
    "### Classifying using Doc2Vec Model"
   ]
  },
  {
   "cell_type": "code",
   "execution_count": 18,
   "id": "7a996f74",
   "metadata": {},
   "outputs": [
    {
     "name": "stdout",
     "output_type": "stream",
     "text": [
      "Requirement already satisfied: gensim in c:\\users\\adity\\anaconda3\\lib\\site-packages (4.1.2)\n",
      "Requirement already satisfied: Cython==0.29.23 in c:\\users\\adity\\anaconda3\\lib\\site-packages (from gensim) (0.29.23)\n",
      "Requirement already satisfied: numpy>=1.17.0 in c:\\users\\adity\\anaconda3\\lib\\site-packages (from gensim) (1.19.2)\n",
      "Requirement already satisfied: scipy>=0.18.1 in c:\\users\\adity\\anaconda3\\lib\\site-packages (from gensim) (1.4.1)\n",
      "Requirement already satisfied: smart-open>=1.8.1 in c:\\users\\adity\\anaconda3\\lib\\site-packages (from gensim) (5.2.1)\n"
     ]
    }
   ],
   "source": [
    "from tqdm import tqdm\n",
    "tqdm.pandas(desc=\"progress-bar\")\n",
    "!pip install gensim\n",
    "from gensim.models import doc2vec\n",
    "from gensim.models import Doc2Vec\n",
    "from sklearn import utils\n",
    "import gensim\n",
    "from gensim.models.doc2vec import TaggedDocument\n",
    "import re"
   ]
  },
  {
   "cell_type": "code",
   "execution_count": 19,
   "id": "c1643265",
   "metadata": {},
   "outputs": [
    {
     "name": "stderr",
     "output_type": "stream",
     "text": [
      "100%|█████████████████████████████████████████████████████████████████████| 120000/120000 [00:00<00:00, 3750942.59it/s]\n",
      "100%|█████████████████████████████████████████████████████████████████████| 120000/120000 [00:00<00:00, 4137040.46it/s]\n",
      "100%|█████████████████████████████████████████████████████████████████████| 120000/120000 [00:00<00:00, 3872588.69it/s]\n",
      "100%|█████████████████████████████████████████████████████████████████████| 120000/120000 [00:00<00:00, 3870087.43it/s]\n",
      "100%|█████████████████████████████████████████████████████████████████████| 120000/120000 [00:00<00:00, 3998923.27it/s]\n",
      "100%|█████████████████████████████████████████████████████████████████████| 120000/120000 [00:00<00:00, 3870117.18it/s]\n",
      "100%|█████████████████████████████████████████████████████████████████████| 120000/120000 [00:00<00:00, 3870027.91it/s]\n",
      "100%|█████████████████████████████████████████████████████████████████████| 120000/120000 [00:00<00:00, 3870117.18it/s]\n",
      "100%|█████████████████████████████████████████████████████████████████████| 120000/120000 [00:00<00:00, 3634185.21it/s]\n",
      "100%|█████████████████████████████████████████████████████████████████████| 120000/120000 [00:00<00:00, 3999113.91it/s]\n",
      "100%|█████████████████████████████████████████████████████████████████████| 120000/120000 [00:00<00:00, 3999368.13it/s]\n",
      "100%|█████████████████████████████████████████████████████████████████████| 120000/120000 [00:00<00:00, 3870831.51it/s]\n",
      "100%|█████████████████████████████████████████████████████████████████████| 120000/120000 [00:00<00:00, 3870087.43it/s]\n",
      "100%|█████████████████████████████████████████████████████████████████████| 120000/120000 [00:00<00:00, 3529370.58it/s]\n",
      "100%|█████████████████████████████████████████████████████████████████████| 120000/120000 [00:00<00:00, 3870891.05it/s]\n",
      "100%|█████████████████████████████████████████████████████████████████████| 120000/120000 [00:00<00:00, 3869254.39it/s]\n",
      "100%|█████████████████████████████████████████████████████████████████████| 120000/120000 [00:00<00:00, 3870027.91it/s]\n",
      "100%|█████████████████████████████████████████████████████████████████████| 120000/120000 [00:00<00:00, 3636101.78it/s]\n",
      "100%|█████████████████████████████████████████████████████████████████████| 120000/120000 [00:00<00:00, 3999177.47it/s]\n",
      "100%|█████████████████████████████████████████████████████████████████████| 120000/120000 [00:00<00:00, 3636732.32it/s]\n",
      "100%|█████████████████████████████████████████████████████████████████████| 120000/120000 [00:00<00:00, 3999685.95it/s]\n",
      "100%|█████████████████████████████████████████████████████████████████████| 120000/120000 [00:00<00:00, 3870623.14it/s]\n",
      "100%|█████████████████████████████████████████████████████████████████████| 120000/120000 [00:00<00:00, 3997335.30it/s]\n",
      "100%|█████████████████████████████████████████████████████████████████████| 120000/120000 [00:00<00:00, 3749517.49it/s]\n",
      "100%|█████████████████████████████████████████████████████████████████████| 120000/120000 [00:00<00:00, 3748372.61it/s]\n",
      "100%|█████████████████████████████████████████████████████████████████████| 120000/120000 [00:00<00:00, 3998287.93it/s]\n",
      "100%|█████████████████████████████████████████████████████████████████████| 120000/120000 [00:00<00:00, 4137924.77it/s]\n",
      "100%|█████████████████████████████████████████████████████████████████████| 120000/120000 [00:00<00:00, 3998192.65it/s]\n",
      "100%|█████████████████████████████████████████████████████████████████████| 120000/120000 [00:00<00:00, 3870087.43it/s]\n",
      "100%|█████████████████████████████████████████████████████████████████████| 120000/120000 [00:00<00:00, 3869373.37it/s]\n",
      "100%|█████████████████████████████████████████████████████████████████████| 120000/120000 [00:00<00:00, 3872558.90it/s]\n",
      "<ipython-input-19-d124b065c955>:27: DeprecationWarning: Call to deprecated `docvecs` (The `docvecs` property has been renamed `dv`.).\n",
      "  vectors[i] = model.docvecs[prefix]\n"
     ]
    }
   ],
   "source": [
    "def label_sentences(corpus, label_type):\n",
    "    labeled = []\n",
    "    for i, v in enumerate(corpus):\n",
    "        label = label_type + '_' + str(i)\n",
    "        labeled.append(doc2vec.TaggedDocument(v.split(), [label]))\n",
    "    return labeled\n",
    "X_train, X_test, y_train, y_test = train_test_split(df.post, df.tags, random_state=0, test_size=0.3)\n",
    "X_train = label_sentences(X_train, 'Train')\n",
    "X_test = label_sentences(X_test, 'Test')\n",
    "all_data = X_train + X_test\n",
    "\n",
    "\n",
    "model_dbow = Doc2Vec(dm=0, vector_size=300, negative=5, min_count=1, alpha=0.065, min_alpha=0.065)\n",
    "model_dbow.build_vocab([x for x in tqdm(all_data)])\n",
    "\n",
    "for epoch in range(30):\n",
    "    model_dbow.train(utils.shuffle([x for x in tqdm(all_data)]), total_examples=len(all_data), epochs=1)\n",
    "    model_dbow.alpha -= 0.002\n",
    "    model_dbow.min_alpha = model_dbow.alpha\n",
    "    \n",
    "\n",
    "def get_vectors(model, corpus_size, vectors_size, vectors_type):\n",
    "\n",
    "    vectors = np.zeros((corpus_size, vectors_size))\n",
    "    for i in range(0, corpus_size):\n",
    "        prefix = vectors_type + '_' + str(i)\n",
    "        vectors[i] = model.docvecs[prefix]\n",
    "    return vectors\n",
    "    \n",
    "train_vectors_dbow = get_vectors(model_dbow, len(X_train), 300, 'Train')\n",
    "test_vectors_dbow = get_vectors(model_dbow, len(X_test), 300, 'Test')"
   ]
  },
  {
   "cell_type": "markdown",
   "id": "323c0a5d",
   "metadata": {},
   "source": [
    "#### Using these generated vectors with logistic regression"
   ]
  },
  {
   "cell_type": "code",
   "execution_count": 20,
   "id": "357f9711",
   "metadata": {},
   "outputs": [
    {
     "name": "stderr",
     "output_type": "stream",
     "text": [
      "C:\\Users\\adity\\anaconda3\\lib\\site-packages\\sklearn\\linear_model\\_logistic.py:763: ConvergenceWarning: lbfgs failed to converge (status=1):\n",
      "STOP: TOTAL NO. of ITERATIONS REACHED LIMIT.\n",
      "\n",
      "Increase the number of iterations (max_iter) or scale the data as shown in:\n",
      "    https://scikit-learn.org/stable/modules/preprocessing.html\n",
      "Please also refer to the documentation for alternative solver options:\n",
      "    https://scikit-learn.org/stable/modules/linear_model.html#logistic-regression\n",
      "  n_iter_i = _check_optimize_result(\n"
     ]
    },
    {
     "name": "stdout",
     "output_type": "stream",
     "text": [
      "accuracy 0.8549722222222222\n",
      "              precision    recall  f1-score   support\n",
      "\n",
      "           1       0.86      0.85      0.85      8964\n",
      "           2       0.92      0.94      0.93      8993\n",
      "           3       0.82      0.82      0.82      8974\n",
      "           4       0.82      0.82      0.82      9069\n",
      "\n",
      "    accuracy                           0.85     36000\n",
      "   macro avg       0.85      0.86      0.85     36000\n",
      "weighted avg       0.85      0.85      0.85     36000\n",
      "\n"
     ]
    },
    {
     "name": "stderr",
     "output_type": "stream",
     "text": [
      "C:\\Users\\adity\\anaconda3\\lib\\site-packages\\sklearn\\linear_model\\_logistic.py:763: ConvergenceWarning: lbfgs failed to converge (status=1):\n",
      "STOP: TOTAL NO. of ITERATIONS REACHED LIMIT.\n",
      "\n",
      "Increase the number of iterations (max_iter) or scale the data as shown in:\n",
      "    https://scikit-learn.org/stable/modules/preprocessing.html\n",
      "Please also refer to the documentation for alternative solver options:\n",
      "    https://scikit-learn.org/stable/modules/linear_model.html#logistic-regression\n",
      "  n_iter_i = _check_optimize_result(\n"
     ]
    }
   ],
   "source": [
    "from sklearn.linear_model import LogisticRegression\n",
    "logreg = LogisticRegression(n_jobs=1, C=1e5)\n",
    "logreg.fit(train_vectors_dbow, y_train)\n",
    "logreg = logreg.fit(train_vectors_dbow, y_train)\n",
    "y_pred = logreg.predict(test_vectors_dbow)\n",
    "print('accuracy %s' % accuracy_score(y_pred, y_test))\n",
    "print(classification_report(y_test, y_pred))"
   ]
  },
  {
   "cell_type": "markdown",
   "id": "d37a1dcd",
   "metadata": {},
   "source": [
    "## Thankyou for your time"
   ]
  },
  {
   "cell_type": "markdown",
   "id": "2d1c5c19",
   "metadata": {},
   "source": [
    "Hope to hear a positive response from you soon "
   ]
  }
 ],
 "metadata": {
  "kernelspec": {
   "display_name": "Python 3",
   "language": "python",
   "name": "python3"
  },
  "language_info": {
   "codemirror_mode": {
    "name": "ipython",
    "version": 3
   },
   "file_extension": ".py",
   "mimetype": "text/x-python",
   "name": "python",
   "nbconvert_exporter": "python",
   "pygments_lexer": "ipython3",
   "version": "3.8.8"
  }
 },
 "nbformat": 4,
 "nbformat_minor": 5
}
